{
 "cells": [
  {
   "cell_type": "code",
   "execution_count": 2,
   "metadata": {},
   "outputs": [],
   "source": [
    "import pandas as pd\n",
    "from pandas import Series, DataFrame\n",
    "import numpy as np\n",
    "import matplotlib.pyplot as plt \n",
    "import chardet\n",
    "import os"
   ]
  },
  {
   "cell_type": "code",
   "execution_count": 3,
   "metadata": {},
   "outputs": [],
   "source": [
    "import geopandas as gpd\n",
    "from geopandas import GeoSeries\n",
    "from shapely.geometry import Point, LineString\n",
    "import folium \n",
    "from folium import Marker, GeoJson\n",
    "from folium.plugins import MarkerCluster, HeatMap"
   ]
  },
  {
   "cell_type": "code",
   "execution_count": 4,
   "metadata": {},
   "outputs": [],
   "source": [
    "det = chardet.detect(open('../../_data/data_dengue_peru.csv', 'rb').read())\n",
    "charenc = det['encoding']"
   ]
  },
  {
   "cell_type": "code",
   "execution_count": 7,
   "metadata": {},
   "outputs": [
    {
     "name": "stderr",
     "output_type": "stream",
     "text": [
      "C:\\Users\\MSI-NB\\AppData\\Local\\Temp\\ipykernel_20936\\2364250186.py:1: DtypeWarning: Columns (7) have mixed types. Specify dtype option on import or set low_memory=False.\n",
      "  main_data = pd.read_csv('../../_data/data_dengue_peru.csv', encoding=charenc)\n"
     ]
    }
   ],
   "source": [
    "main_data = pd.read_csv('../../_data/data_dengue_peru.csv', encoding=charenc)"
   ]
  },
  {
   "cell_type": "code",
   "execution_count": 8,
   "metadata": {},
   "outputs": [],
   "source": [
    "main_data[\"Ubigeo_String\"] = main_data[\"Ubigeo\"].astype(str)\n",
    "\n",
    "main_data[\"Ubigeo_Largo\"] = main_data[\"Ubigeo_String\"].str.len()"
   ]
  },
  {
   "cell_type": "code",
   "execution_count": 9,
   "metadata": {},
   "outputs": [
    {
     "name": "stderr",
     "output_type": "stream",
     "text": [
      "C:\\Users\\MSI-NB\\AppData\\Local\\Temp\\ipykernel_20936\\3164714844.py:2: SettingWithCopyWarning: \n",
      "A value is trying to be set on a copy of a slice from a DataFrame.\n",
      "Try using .loc[row_indexer,col_indexer] = value instead\n",
      "\n",
      "See the caveats in the documentation: https://pandas.pydata.org/pandas-docs/stable/user_guide/indexing.html#returning-a-view-versus-a-copy\n",
      "  df5[\"Ubigeo_String\"] = df5[\"Ubigeo_String\"].str.zfill(6)\n"
     ]
    }
   ],
   "source": [
    "df5 = main_data[main_data[\"Ubigeo_Largo\"] == 5]\n",
    "df5[\"Ubigeo_String\"] = df5[\"Ubigeo_String\"].str.zfill(6)"
   ]
  },
  {
   "cell_type": "code",
   "execution_count": 10,
   "metadata": {},
   "outputs": [],
   "source": [
    "df6 = main_data[main_data[\"Ubigeo_Largo\"] == 6]"
   ]
  },
  {
   "cell_type": "code",
   "execution_count": 11,
   "metadata": {},
   "outputs": [],
   "source": [
    "new_data = pd.concat([df5, df6])"
   ]
  },
  {
   "cell_type": "code",
   "execution_count": 12,
   "metadata": {},
   "outputs": [],
   "source": [
    "new_data[\"Ubigeo_Departamento\"] = new_data[\"Ubigeo_String\"].str[0:2]\n",
    "new_data[\"Ubigeo_Provincia\"] = new_data[\"Ubigeo_String\"].str[0:4]"
   ]
  },
  {
   "cell_type": "code",
   "execution_count": 14,
   "metadata": {},
   "outputs": [],
   "source": [
    "maps = gpd.read_file(r'../../_data/LIMITE_DISTRITAL_2020_INEI/INEI_LIMITE_DISTRITAL.shp')"
   ]
  },
  {
   "cell_type": "code",
   "execution_count": 15,
   "metadata": {},
   "outputs": [],
   "source": [
    "maps = maps[['UBIGEO', 'geometry', 'NOMBDEP']]\n",
    "maps['UBIGEO'] = maps['UBIGEO'].astype(int)"
   ]
  },
  {
   "cell_type": "code",
   "execution_count": 16,
   "metadata": {},
   "outputs": [],
   "source": [
    "new_data.Casos = new_data.Casos.fillna(0).replace(',', '', regex=True).astype(int)\n",
    "new_data.rename(columns={\"Ubigeo\": \"UBIGEO\"}, inplace=True)"
   ]
  },
  {
   "cell_type": "code",
   "execution_count": 23,
   "metadata": {},
   "outputs": [
    {
     "name": "stderr",
     "output_type": "stream",
     "text": [
      "C:\\Users\\MSI-NB\\miniconda3\\lib\\site-packages\\geopandas\\geodataframe.py:1443: SettingWithCopyWarning: \n",
      "A value is trying to be set on a copy of a slice from a DataFrame.\n",
      "Try using .loc[row_indexer,col_indexer] = value instead\n",
      "\n",
      "See the caveats in the documentation: https://pandas.pydata.org/pandas-docs/stable/user_guide/indexing.html#returning-a-view-versus-a-copy\n",
      "  super().__setitem__(key, value)\n"
     ]
    }
   ],
   "source": [
    "ds = pd.merge(maps, new_data, how=\"outer\", on=\"UBIGEO\")\n",
    "\n",
    "ds.Año = ds.Año.fillna(2021).astype(int)\n",
    "\n",
    "filtered_ds = ds[ds[\"Año\"] == 2021]\n",
    "\n",
    "filtered_ds.Casos = filtered_ds.Casos.replace(0, np.nan)"
   ]
  },
  {
   "cell_type": "code",
   "execution_count": null,
   "metadata": {},
   "outputs": [],
   "source": [
    "filtered_ds.loc[ (df6.Departamento), 'Casos' ] = np.nan"
   ]
  },
  {
   "cell_type": "code",
   "execution_count": null,
   "metadata": {},
   "outputs": [],
   "source": [
    "filtered_ds.plot(\n",
    "    column='Casos',\n",
    "    cmap='Reds',\n",
    "    figsize=(20, 20),\n",
    "    legend=True,\n",
    "    linestyle='-',\n",
    "    edgecolor='gray',\n",
    "    missing_kwds= dict(color=\"#DADADB\"),\n",
    "    classification_kwds = dict( bins = [ 20, 60, 100, 140, 180, 220] ), \n",
    "          legend_kwds=dict(  loc='upper left',\n",
    "                            bbox_to_anchor=(1.01, 1),\n",
    "                            fontsize='x-large',\n",
    "                            title= \"Number of dengue cases in 2021\", \n",
    "                            title_fontsize = 'x-large', \n",
    "                            frameon= False ))"
   ]
  },
  {
   "cell_type": "markdown",
   "metadata": {},
   "source": []
  }
 ],
 "metadata": {
  "kernelspec": {
   "display_name": "Python 3 (ipykernel)",
   "language": "python",
   "name": "python3"
  },
  "language_info": {
   "codemirror_mode": {
    "name": "ipython",
    "version": 3
   },
   "file_extension": ".py",
   "mimetype": "text/x-python",
   "name": "python",
   "nbconvert_exporter": "python",
   "pygments_lexer": "ipython3",
   "version": "3.10.8"
  }
 },
 "nbformat": 4,
 "nbformat_minor": 4
}
