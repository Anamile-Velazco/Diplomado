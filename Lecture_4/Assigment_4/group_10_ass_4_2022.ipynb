{
 "cells": [
  {
   "cell_type": "markdown",
   "metadata": {},
   "source": [
    "# Assigment 4\n",
    "\n",
    "This assigment will be graded if everything works well. I will run the script as once and everything should be done without errors and mistakes. I should be able to run your scripts in my computer and get all the results. **USE RELATIVE PATHS**. An error or exception or anything that breaks the code will means NO GRADE (0). Additionally, you are not able to modify any file handly. It also means NO GRADE (0). Comment everything you think will help others read your script. We expect 0 errors using GitHub. Everything will be graded!\n",
    "\n",
    "**ASK EVERYTHING! WE ARE HERE TO HELP YOU!**"
   ]
  },
  {
   "cell_type": "markdown",
   "metadata": {},
   "source": [
    "In this path **..\\_data\\sbs\\B_RawData\\bancos** you will find scraped data from [this link](https://www.sbs.gob.pe/app/pp/EstadisticasSAEEPortal/Paginas/TIActivaTipoCreditoEmpresa.aspx?tip=B). We get all the information of the last available day of every each month.\n",
    "\n",
    "1. Import all the data and generate a column named as `date_info` that should have the day to information corresponds.\n",
    "2. Append all this datasets and generate a unique dataframe. This newdataset should have information at `rate interest` and `date` level. The columns should be the name of the banks. Be careful since not all the excel files have the same format. **It is totally prohibited to manipulate manually the excel files. This kind of action means NO GRADE on this project.**\n",
    "3. What are the top 5 banks each year with the highest interest rate at `Préstamos hipotecarios para vivienda`, `Consumo -\n",
    "Tarjetas de Crédito`. Present a dataframe with these variables: `year`, `rate_concept`, `banks`, `rate_value`.\n",
    "4. We want to save this dataset in the folder **_output/sbs/group_#**, but we want to save a file per bank. We want to have the information disaggregated at the bank level. Please, save your files with the name of the bank. Avoid blank spaces and use only lowercase letters. Generate the folder of your group using python code. **Hint: os library**"
   ]
  },
  {
   "cell_type": "markdown",
   "metadata": {},
   "source": [
    "### Solution 1"
   ]
  },
  {
   "cell_type": "code",
   "execution_count": 1,
   "metadata": {
    "scrolled": true
   },
   "outputs": [],
   "source": [
    "import pickle\n",
    "import os\n",
    "import pandas as pd"
   ]
  },
  {
   "cell_type": "code",
   "execution_count": null,
   "metadata": {},
   "outputs": [],
   "source": [
    "!pip install \"numpy<1.24\""
   ]
  },
  {
   "cell_type": "code",
   "execution_count": null,
   "metadata": {},
   "outputs": [],
   "source": [
    "!pip install \"openpyxl==3.0.7\""
   ]
  },
  {
   "cell_type": "code",
   "execution_count": 2,
   "metadata": {},
   "outputs": [],
   "source": [
    "var_archivos = os.listdir(r\"../../_data/sbs/B_RawData/bancos\")"
   ]
  },
  {
   "cell_type": "code",
   "execution_count": 3,
   "metadata": {},
   "outputs": [],
   "source": [
    "ruta = \"../../_data/sbs/B_RawData/bancos\""
   ]
  },
  {
   "cell_type": "code",
   "execution_count": 8,
   "metadata": {
    "scrolled": true
   },
   "outputs": [],
   "source": [
    "v = []\n",
    "for i in range(0,len(var_archivos)): \n",
    "    arch = pd.read_excel(ruta+\"/\"+var_archivos[i])\n",
    "    v.append(arch.columns)"
   ]
  },
  {
   "cell_type": "code",
   "execution_count": null,
   "metadata": {},
   "outputs": [],
   "source": [
    "## CASO A\n",
    "## Tipo 1\n",
    "'Unnamed: 0', 'COMERCIAL', 'COMERCIAL.1', 'COMERCIAL.2', 'COMERCIAL.3',\n",
    "        'COMERCIAL.4', 'COMERCIAL.5', 'COMERCIAL.6', 'A MICROEMPRESAS2',\n",
    "        'A MICROEMPRESAS2.1', 'A MICROEMPRESAS2.2', 'CONSUMO', 'CONSUMO.1',\n",
    "        'CONSUMO.2', 'CONSUMO.3', 'CONSUMO.4', 'CONSUMO.5', 'CONSUMO.6',\n",
    "        'CONSUMO.7', 'CONSUMO.8', 'HIPOTECARIO'\n",
    "        \n",
    "## Tipo2\n",
    "'Tasa Anual (%)', 'CRÉDITOS COMERCIALES', 'CRÉDITOS COMERCIALES.1',\n",
    "        'CRÉDITOS COMERCIALES.2', 'CRÉDITOS COMERCIALES.3',\n",
    "        'CRÉDITOS COMERCIALES.4', 'CRÉDITOS COMERCIALES.5',\n",
    "        'CRÉDITOS COMERCIALES.6', 'CRÉDITOS COMERCIALES.7',\n",
    "        'CRÉDITOS COMERCIALES.8', 'CRÉDITOS COMERCIALES.9',\n",
    "        'CRÉDITOS COMERCIALES.10', 'CRÉDITOS COMERCIALES.11',\n",
    "        'CRÉDITOS COMERCIALES.12', 'CRÉDITOS COMERCIALES.13',\n",
    "        'CRÉDITOS COMERCIALES.14', 'CRÉDITOS COMERCIALES.15',\n",
    "        'CRÉDITOS COMERCIALES.16', 'CRÉDITOS COMERCIALES.17',\n",
    "        'CRÉDITOS COMERCIALES.18', 'CRÉDITOS COMERCIALES.19',\n",
    "        'CRÉDITOS COMERCIALES.20', 'CRÉDITOS A MICROEMPRESAS2',\n",
    "        'CRÉDITOS A MICROEMPRESAS2.1', 'CRÉDITOS A MICROEMPRESAS2.2',\n",
    "        'CRÉDITOS A MICROEMPRESAS2.3', 'CRÉDITOS DE CONSUMO',\n",
    "        'CRÉDITOS DE CONSUMO.1', 'CRÉDITOS DE CONSUMO.2',\n",
    "        'CRÉDITOS DE CONSUMO.3', 'CRÉDITOS DE CONSUMO.4',\n",
    "        'CRÉDITOS DE CONSUMO.5', 'CRÉDITOS DE CONSUMO.6',\n",
    "        'CRÉDITOS DE CONSUMO.7', 'CRÉDITOS DE CONSUMO.8',\n",
    "        'CRÉDITOS DE CONSUMO.9', 'PRÉSTAMOS HIPOTECARIOS'\n",
    "\n",
    "## CASO B \n",
    "#Tipo 3\n",
    "\n",
    "'Tasa Anual (%)', 'BBVA', 'Comercio', 'Crédito', 'Pichincha', 'BIF',\n",
    "        'Scotiabank', 'Citibank', 'Interbank', 'Mibanco', 'GNB', 'Falabella',\n",
    "        'Santander', 'Ripley', 'Azteca', 'ICBC', 'Bank of China', 'Promedio'\n",
    "        \n",
    "# Tipo 4\n",
    "'Tasa Anual (%)', 'Continental', 'Comercio', 'Crédito', 'Financiero',\n",
    "        'BIF', 'Scotiabank', 'Citibank', 'Interbank', 'Mibanco', 'HSBC',\n",
    "        'Falabella', 'Santander', 'Ripley', 'Azteca', 'Deutsche', 'Promedio'"
   ]
  },
  {
   "cell_type": "code",
   "execution_count": 75,
   "metadata": {
    "scrolled": true
   },
   "outputs": [],
   "source": [
    "# CASO B \n",
    "# Columns \n",
    "v_casoB = []\n",
    "b=[]\n",
    "for i in range(0,len(var_archivos)): \n",
    "    arch = pd.read_excel(ruta+\"/\"+var_archivos[i])\n",
    "    if arch.columns[0]==\"Tasa Anual (%)\" and arch.columns[1]== \"BBVA\":\n",
    "        v_casoB.append(arch.columns)\n",
    "        for i in range(len(v_casoB)):\n",
    "            a= list(map(lambda x: x  , v_casoB[i] ))\n",
    "            for x in a : \n",
    "                b.append(x)\n",
    "unique_heads = pd.unique(b)"
   ]
  },
  {
   "cell_type": "code",
   "execution_count": 75,
   "metadata": {
    "scrolled": true
   },
   "outputs": [],
   "source": [
    "# CASO B \n",
    "# Index \n",
    "v_casoB = []\n",
    "b=[]\n",
    "for i in range(0,len(var_archivos)): \n",
    "    arch = pd.read_excel(ruta+\"/\"+var_archivos[i])\n",
    "    if arch.columns[0]==\"Tasa Anual (%)\" and arch.columns[1]== \"BBVA\":\n",
    "        v_casoB.append(arch.columns)\n",
    "        for i in range(len(v_casoB)):\n",
    "            a= list(map(lambda x: x  , v_casoB[i] ))\n",
    "            for x in a : \n",
    "                b.append(x)\n",
    "unique_heads = pd.unique(b)"
   ]
  },
  {
   "cell_type": "code",
   "execution_count": 76,
   "metadata": {},
   "outputs": [
    {
     "data": {
      "text/plain": [
       "array(['Tasa Anual (%)', 'BBVA', 'Comercio', 'Crédito', 'Pichincha',\n",
       "       'BIF', 'Scotiabank', 'Citibank', 'Interbank', 'Mibanco', 'GNB',\n",
       "       'Falabella', 'Santander', 'Ripley', 'Azteca', 'ICBC',\n",
       "       'Bank of China', 'Promedio', 'Alfin', 'BCI'], dtype=object)"
      ]
     },
     "execution_count": 76,
     "metadata": {},
     "output_type": "execute_result"
    }
   ],
   "source": [
    "unique_heads"
   ]
  },
  {
   "cell_type": "code",
   "execution_count": 78,
   "metadata": {},
   "outputs": [
    {
     "data": {
      "text/plain": [
       "{'Tasa Anual (%)': None,\n",
       " 'BBVA': None,\n",
       " 'Comercio': None,\n",
       " 'Crédito': None,\n",
       " 'Pichincha': None,\n",
       " 'BIF': None,\n",
       " 'Scotiabank': None,\n",
       " 'Citibank': None,\n",
       " 'Interbank': None,\n",
       " 'Mibanco': None,\n",
       " 'GNB': None,\n",
       " 'Falabella': None,\n",
       " 'Santander': None,\n",
       " 'Ripley': None,\n",
       " 'Azteca': None,\n",
       " 'ICBC': None,\n",
       " 'Bank of China': None,\n",
       " 'Promedio': None,\n",
       " 'Alfin': None,\n",
       " 'BCI': None}"
      ]
     },
     "execution_count": 78,
     "metadata": {},
     "output_type": "execute_result"
    }
   ],
   "source": [
    "my_dictionary = dict.fromkeys(unique_heads)\n",
    "my_dictionary"
   ]
  },
  {
   "cell_type": "code",
   "execution_count": null,
   "metadata": {},
   "outputs": [],
   "source": [
    "df = pandas.DataFrame(data, index, unique_heads)"
   ]
  },
  {
   "cell_type": "code",
   "execution_count": 14,
   "metadata": {},
   "outputs": [
    {
     "data": {
      "text/html": [
       "<div>\n",
       "<style scoped>\n",
       "    .dataframe tbody tr th:only-of-type {\n",
       "        vertical-align: middle;\n",
       "    }\n",
       "\n",
       "    .dataframe tbody tr th {\n",
       "        vertical-align: top;\n",
       "    }\n",
       "\n",
       "    .dataframe thead th {\n",
       "        text-align: right;\n",
       "    }\n",
       "</style>\n",
       "<table border=\"1\" class=\"dataframe\">\n",
       "  <thead>\n",
       "    <tr style=\"text-align: right;\">\n",
       "      <th></th>\n",
       "      <th>Unnamed: 0</th>\n",
       "      <th>COMERCIAL</th>\n",
       "      <th>COMERCIAL.1</th>\n",
       "      <th>COMERCIAL.2</th>\n",
       "      <th>COMERCIAL.3</th>\n",
       "      <th>COMERCIAL.4</th>\n",
       "      <th>COMERCIAL.5</th>\n",
       "      <th>COMERCIAL.6</th>\n",
       "      <th>A MICROEMPRESAS2</th>\n",
       "      <th>A MICROEMPRESAS2.1</th>\n",
       "      <th>...</th>\n",
       "      <th>CONSUMO</th>\n",
       "      <th>CONSUMO.1</th>\n",
       "      <th>CONSUMO.2</th>\n",
       "      <th>CONSUMO.3</th>\n",
       "      <th>CONSUMO.4</th>\n",
       "      <th>CONSUMO.5</th>\n",
       "      <th>CONSUMO.6</th>\n",
       "      <th>CONSUMO.7</th>\n",
       "      <th>CONSUMO.8</th>\n",
       "      <th>HIPOTECARIO</th>\n",
       "    </tr>\n",
       "  </thead>\n",
       "  <tbody>\n",
       "    <tr>\n",
       "      <th>0</th>\n",
       "      <td>NaN</td>\n",
       "      <td>Avances en Cta.Corriente</td>\n",
       "      <td>Sobregiros</td>\n",
       "      <td>Dsctos. y préstamos hasta 30 días</td>\n",
       "      <td>Dsctos. y préstamos 31 - 90 días</td>\n",
       "      <td>Dsctos. y préstamos 91 - 180 días</td>\n",
       "      <td>Dsctos. y préstamos 181 - 360 días</td>\n",
       "      <td>Dsctos. y préstamos más 360 días</td>\n",
       "      <td>Sobregiros</td>\n",
       "      <td>Dsctos. y préstamos hasta 360 días</td>\n",
       "      <td>...</td>\n",
       "      <td>Tarjeta de crédito3</td>\n",
       "      <td>Tarjeta de crédito3</td>\n",
       "      <td>Tarjeta de crédito3</td>\n",
       "      <td>Préstamos hasta 360 días</td>\n",
       "      <td>Préstamos hasta 360 días</td>\n",
       "      <td>Préstamos hasta 360 días</td>\n",
       "      <td>Préstamos más 360 días</td>\n",
       "      <td>Préstamos más 360 días</td>\n",
       "      <td>Préstamos más 360 días</td>\n",
       "      <td>HIPOTECARIO</td>\n",
       "    </tr>\n",
       "    <tr>\n",
       "      <th>1</th>\n",
       "      <td>NaN</td>\n",
       "      <td>Avances en Cta.Corriente</td>\n",
       "      <td>Sobregiros</td>\n",
       "      <td>Dsctos. y préstamos hasta 30 días</td>\n",
       "      <td>Dsctos. y préstamos 31 - 90 días</td>\n",
       "      <td>Dsctos. y préstamos 91 - 180 días</td>\n",
       "      <td>Dsctos. y préstamos 181 - 360 días</td>\n",
       "      <td>Dsctos. y préstamos más 360 días</td>\n",
       "      <td>Sobregiros</td>\n",
       "      <td>Dsctos. y préstamos hasta 360 días</td>\n",
       "      <td>...</td>\n",
       "      <td>Tarjetas de crédito abiertas4</td>\n",
       "      <td>Tarjetas de crédito cerradas5</td>\n",
       "      <td>Tarjetas de crédito</td>\n",
       "      <td>Para préstamos menores o iguales a S/. 1800</td>\n",
       "      <td>Para préstamos mayores a S/. 1800</td>\n",
       "      <td>Préstamos hasta 360 días</td>\n",
       "      <td>Para préstamos menores o iguales a S/. 1800</td>\n",
       "      <td>Para préstamos mayores a S/. 1800</td>\n",
       "      <td>Préstamos más de 360 días</td>\n",
       "      <td>HIPOTECARIO</td>\n",
       "    </tr>\n",
       "    <tr>\n",
       "      <th>2</th>\n",
       "      <td>TRABAJO</td>\n",
       "      <td>-</td>\n",
       "      <td>-</td>\n",
       "      <td>-</td>\n",
       "      <td>-</td>\n",
       "      <td>-</td>\n",
       "      <td>-</td>\n",
       "      <td>-</td>\n",
       "      <td>-</td>\n",
       "      <td>46.50</td>\n",
       "      <td>...</td>\n",
       "      <td>70.46</td>\n",
       "      <td>73.34</td>\n",
       "      <td>72.54</td>\n",
       "      <td>57.27</td>\n",
       "      <td>50.57</td>\n",
       "      <td>54.66</td>\n",
       "      <td>66.46</td>\n",
       "      <td>64.27</td>\n",
       "      <td>64.84</td>\n",
       "      <td>-</td>\n",
       "    </tr>\n",
       "    <tr>\n",
       "      <th>3</th>\n",
       "      <td>BBVA</td>\n",
       "      <td>38.92</td>\n",
       "      <td>48.79</td>\n",
       "      <td>8.19</td>\n",
       "      <td>5.94</td>\n",
       "      <td>10.00</td>\n",
       "      <td>26.18</td>\n",
       "      <td>23.38</td>\n",
       "      <td>49.00</td>\n",
       "      <td>34.56</td>\n",
       "      <td>...</td>\n",
       "      <td>48.57</td>\n",
       "      <td>-</td>\n",
       "      <td>48.57</td>\n",
       "      <td>22.36</td>\n",
       "      <td>20.55</td>\n",
       "      <td>20.70</td>\n",
       "      <td>23.72</td>\n",
       "      <td>22.29</td>\n",
       "      <td>22.34</td>\n",
       "      <td>15.92</td>\n",
       "    </tr>\n",
       "  </tbody>\n",
       "</table>\n",
       "<p>4 rows × 21 columns</p>\n",
       "</div>"
      ],
      "text/plain": [
       "  Unnamed: 0                 COMERCIAL COMERCIAL.1  \\\n",
       "0        NaN  Avances en Cta.Corriente  Sobregiros   \n",
       "1        NaN  Avances en Cta.Corriente  Sobregiros   \n",
       "2    TRABAJO                         -           -   \n",
       "3       BBVA                     38.92       48.79   \n",
       "\n",
       "                         COMERCIAL.2                       COMERCIAL.3  \\\n",
       "0  Dsctos. y préstamos hasta 30 días  Dsctos. y préstamos 31 - 90 días   \n",
       "1  Dsctos. y préstamos hasta 30 días  Dsctos. y préstamos 31 - 90 días   \n",
       "2                                  -                                 -   \n",
       "3                               8.19                              5.94   \n",
       "\n",
       "                         COMERCIAL.4                         COMERCIAL.5  \\\n",
       "0  Dsctos. y préstamos 91 - 180 días  Dsctos. y préstamos 181 - 360 días   \n",
       "1  Dsctos. y préstamos 91 - 180 días  Dsctos. y préstamos 181 - 360 días   \n",
       "2                                  -                                   -   \n",
       "3                              10.00                               26.18   \n",
       "\n",
       "                        COMERCIAL.6 A MICROEMPRESAS2  \\\n",
       "0  Dsctos. y préstamos más 360 días       Sobregiros   \n",
       "1  Dsctos. y préstamos más 360 días       Sobregiros   \n",
       "2                                 -                -   \n",
       "3                             23.38            49.00   \n",
       "\n",
       "                   A MICROEMPRESAS2.1  ...                        CONSUMO  \\\n",
       "0  Dsctos. y préstamos hasta 360 días  ...            Tarjeta de crédito3   \n",
       "1  Dsctos. y préstamos hasta 360 días  ...  Tarjetas de crédito abiertas4   \n",
       "2                               46.50  ...                          70.46   \n",
       "3                               34.56  ...                          48.57   \n",
       "\n",
       "                       CONSUMO.1            CONSUMO.2  \\\n",
       "0            Tarjeta de crédito3  Tarjeta de crédito3   \n",
       "1  Tarjetas de crédito cerradas5  Tarjetas de crédito   \n",
       "2                          73.34                72.54   \n",
       "3                              -                48.57   \n",
       "\n",
       "                                     CONSUMO.3  \\\n",
       "0                     Préstamos hasta 360 días   \n",
       "1  Para préstamos menores o iguales a S/. 1800   \n",
       "2                                        57.27   \n",
       "3                                        22.36   \n",
       "\n",
       "                           CONSUMO.4                 CONSUMO.5  \\\n",
       "0           Préstamos hasta 360 días  Préstamos hasta 360 días   \n",
       "1  Para préstamos mayores a S/. 1800  Préstamos hasta 360 días   \n",
       "2                              50.57                     54.66   \n",
       "3                              20.55                     20.70   \n",
       "\n",
       "                                     CONSUMO.6  \\\n",
       "0                       Préstamos más 360 días   \n",
       "1  Para préstamos menores o iguales a S/. 1800   \n",
       "2                                        66.46   \n",
       "3                                        23.72   \n",
       "\n",
       "                           CONSUMO.7                  CONSUMO.8  HIPOTECARIO  \n",
       "0             Préstamos más 360 días     Préstamos más 360 días  HIPOTECARIO  \n",
       "1  Para préstamos mayores a S/. 1800  Préstamos más de 360 días  HIPOTECARIO  \n",
       "2                              64.27                      64.84            -  \n",
       "3                              22.29                      22.34        15.92  \n",
       "\n",
       "[4 rows x 21 columns]"
      ]
     },
     "execution_count": 14,
     "metadata": {},
     "output_type": "execute_result"
    }
   ],
   "source": [
    "arch = pd.read_excel(ruta+\"/\"+var_archivos[0])\n",
    "arch.head(4)"
   ]
  },
  {
   "cell_type": "code",
   "execution_count": 104,
   "metadata": {},
   "outputs": [
    {
     "data": {
      "text/plain": [
       "0                                          Corporativos\n",
       "1                                            Descuentos\n",
       "2                               Préstamos hasta 30 días\n",
       "3                             Préstamos de 31 a 90 días\n",
       "4                            Préstamos de 91 a 180 días\n",
       "5                           Préstamos de 181 a 360 días\n",
       "6                           Préstamos a más de 360 días\n",
       "7                                      Grandes Empresas\n",
       "8                                            Descuentos\n",
       "9                               Préstamos hasta 30 días\n",
       "10                            Préstamos de 31 a 90 días\n",
       "11                           Préstamos de 91 a 180 días\n",
       "12                          Préstamos de 181 a 360 días\n",
       "13                          Préstamos a más de 360 días\n",
       "14                                    Medianas Empresas\n",
       "15                                           Descuentos\n",
       "16                              Préstamos hasta 30 días\n",
       "17                            Préstamos de 31 a 90 días\n",
       "18                           Préstamos de 91 a 180 días\n",
       "19                          Préstamos de 181 a 360 días\n",
       "20                          Préstamos a más de 360 días\n",
       "21                                    Pequeñas Empresas\n",
       "22                                           Descuentos\n",
       "23                              Préstamos hasta 30 días\n",
       "24                            Préstamos de 31 a 90 días\n",
       "25                           Préstamos de 91 a 180 días\n",
       "26                          Préstamos de 181 a 360 días\n",
       "27                          Préstamos a más de 360 días\n",
       "28                                        Microempresas\n",
       "29                                  Tarjetas de Crédito\n",
       "30                                           Descuentos\n",
       "31                                Préstamos Revolventes\n",
       "32                 Préstamos a cuota fija hasta 30 días\n",
       "33               Préstamos a cuota fija de 31 a 90 días\n",
       "34              Préstamos a cuota fija de 91 a 180 días\n",
       "35             Préstamos a cuota fija de 181 a 360 días\n",
       "36             Préstamos a cuota fija a más de 360 días\n",
       "37                                              Consumo\n",
       "38                                  Tarjetas de Crédito\n",
       "39                                Préstamos Revolventes\n",
       "40            Préstamos no Revolventes para automóviles\n",
       "41    Préstamos no Revolventes para libre disponibil...\n",
       "42    Préstamos no Revolventes para libre disponibil...\n",
       "43                               Créditos pignoraticios\n",
       "44                                         Hipotecarios\n",
       "45                 Préstamos hipotecarios para vivienda\n",
       "Name: Tasa Anual (%), dtype: object"
      ]
     },
     "execution_count": 104,
     "metadata": {},
     "output_type": "execute_result"
    }
   ],
   "source": [
    "arch = pd.read_excel(ruta+\"/\"+var_archivos[30])\n",
    "#arch.head(230)\n",
    "arch= pd.DataFrame(arch)\n",
    "List_index = arch['Tasa Anual (%)']"
   ]
  }
 ],
 "metadata": {
  "hide_input": false,
  "kernelspec": {
   "display_name": "Python 3",
   "language": "python",
   "name": "python3"
  },
  "language_info": {
   "codemirror_mode": {
    "name": "ipython",
    "version": 3
   },
   "file_extension": ".py",
   "mimetype": "text/x-python",
   "name": "python",
   "nbconvert_exporter": "python",
   "pygments_lexer": "ipython3",
   "version": "3.8.5"
  },
  "toc": {
   "base_numbering": 1,
   "nav_menu": {},
   "number_sections": true,
   "sideBar": true,
   "skip_h1_title": false,
   "title_cell": "Table of Contents",
   "title_sidebar": "Contents",
   "toc_cell": false,
   "toc_position": {},
   "toc_section_display": true,
   "toc_window_display": false
  }
 },
 "nbformat": 4,
 "nbformat_minor": 4
}
